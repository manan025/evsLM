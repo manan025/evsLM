{
 "cells": [
  {
   "metadata": {
    "ExecuteTime": {
     "end_time": "2025-08-08T14:48:54.981902Z",
     "start_time": "2025-08-08T14:48:54.583904Z"
    }
   },
   "cell_type": "code",
   "source": [
    "import ollama\n",
    "import utils.helper as helper"
   ],
   "id": "64975bde66419d32",
   "outputs": [],
   "execution_count": 1
  },
  {
   "metadata": {
    "ExecuteTime": {
     "end_time": "2025-08-08T14:48:54.995131Z",
     "start_time": "2025-08-08T14:48:54.985074Z"
    }
   },
   "cell_type": "code",
   "source": [
    "%load_ext autoreload\n",
    "%autoreload 2"
   ],
   "id": "a220549604619358",
   "outputs": [],
   "execution_count": 2
  },
  {
   "metadata": {
    "ExecuteTime": {
     "end_time": "2025-08-08T14:48:55.007343Z",
     "start_time": "2025-08-08T14:48:54.998830Z"
    }
   },
   "cell_type": "code",
   "source": "data = helper.data_loader()",
   "id": "d6701e149436eaf8",
   "outputs": [],
   "execution_count": 3
  },
  {
   "metadata": {
    "ExecuteTime": {
     "end_time": "2025-08-08T14:48:55.019273Z",
     "start_time": "2025-08-08T14:48:55.010397Z"
    }
   },
   "cell_type": "code",
   "source": [
    "bel = []\n",
    "for i in range(len(data)):\n",
    "    if data[i].strip() != \"\":\n",
    "        bel.append(data[i])\n",
    "data = bel.copy()\n",
    "bel.clear()"
   ],
   "id": "d6bf8dd27dbe552e",
   "outputs": [],
   "execution_count": 4
  },
  {
   "metadata": {
    "ExecuteTime": {
     "end_time": "2025-08-08T14:48:55.102197Z",
     "start_time": "2025-08-08T14:48:55.093565Z"
    }
   },
   "cell_type": "code",
   "source": [
    "emb_model = \"hf.co/CompendiumLabs/bge-base-en-v1.5-gguf\"\n",
    "llm = \"hf.co/bartowski/SmolLM2-135M-Instruct-GGUF\"\n",
    "\n",
    "VECTOR_DB = []"
   ],
   "id": "a5e332adbb58e79",
   "outputs": [],
   "execution_count": 5
  },
  {
   "metadata": {
    "ExecuteTime": {
     "end_time": "2025-08-08T14:48:56.634469Z",
     "start_time": "2025-08-08T14:48:56.553073Z"
    }
   },
   "cell_type": "code",
   "source": [
    "def add_chunk_to_database(chunk):\n",
    "  embedding = ollama.embed(model=emb_model, input=chunk)['embeddings'][0]\n",
    "  VECTOR_DB.append((chunk, embedding))"
   ],
   "id": "fc4b9a981a605ea7",
   "outputs": [],
   "execution_count": 6
  },
  {
   "metadata": {
    "ExecuteTime": {
     "end_time": "2025-08-08T14:48:57.498839Z",
     "start_time": "2025-08-08T14:48:56.936110Z"
    }
   },
   "cell_type": "code",
   "source": [
    "for i, chunk in enumerate(data):\n",
    "  add_chunk_to_database(chunk)\n",
    "  print(f'Added chunk {i+1}/{len(data)} to the database')"
   ],
   "id": "631f1df9b0cda19c",
   "outputs": [
    {
     "name": "stdout",
     "output_type": "stream",
     "text": [
      "Added chunk 1/14 to the database\n",
      "Added chunk 2/14 to the database\n",
      "Added chunk 3/14 to the database\n",
      "Added chunk 4/14 to the database\n",
      "Added chunk 5/14 to the database\n",
      "Added chunk 6/14 to the database\n",
      "Added chunk 7/14 to the database\n",
      "Added chunk 8/14 to the database\n",
      "Added chunk 9/14 to the database\n",
      "Added chunk 10/14 to the database\n",
      "Added chunk 11/14 to the database\n",
      "Added chunk 12/14 to the database\n",
      "Added chunk 13/14 to the database\n",
      "Added chunk 14/14 to the database\n"
     ]
    }
   ],
   "execution_count": 7
  },
  {
   "metadata": {
    "ExecuteTime": {
     "end_time": "2025-08-08T14:48:58.190320Z",
     "start_time": "2025-08-08T14:48:58.172400Z"
    }
   },
   "cell_type": "code",
   "source": [
    "def cosine_similarity(a, b):\n",
    "  dot_product = sum([x * y for x, y in zip(a, b)])\n",
    "  norm_a = sum([x ** 2 for x in a]) ** 0.5\n",
    "  norm_b = sum([x ** 2 for x in b]) ** 0.5\n",
    "  return dot_product / (norm_a * norm_b)"
   ],
   "id": "cd0a807e614c1b99",
   "outputs": [],
   "execution_count": 8
  },
  {
   "metadata": {
    "ExecuteTime": {
     "end_time": "2025-08-08T14:48:59.357378Z",
     "start_time": "2025-08-08T14:48:59.341257Z"
    }
   },
   "cell_type": "code",
   "source": [
    "def retrieve(query, top_n=3):\n",
    "  query_embedding = ollama.embed(model=emb_model, input=query)['embeddings'][0]\n",
    "  similarities = []\n",
    "  for chunk, embedding in VECTOR_DB:\n",
    "    similarity = cosine_similarity(query_embedding, embedding)\n",
    "    if similarity > .5:\n",
    "        similarities.append((chunk, similarity))\n",
    "  similarities.sort(key=lambda x: x[1], reverse=True)\n",
    "  return similarities[:top_n]"
   ],
   "id": "329fdf4cbceca6ee",
   "outputs": [],
   "execution_count": 9
  },
  {
   "metadata": {
    "ExecuteTime": {
     "end_time": "2025-08-08T14:49:51.018664Z",
     "start_time": "2025-08-08T14:49:51.000554Z"
    }
   },
   "cell_type": "code",
   "source": [
    "def ask(query):\n",
    "    retrieved_knowledge = retrieve(query)\n",
    "    if not len(retrieved_knowledge):\n",
    "        print(\"Could not find relevant information in the document.\")\n",
    "        return\n",
    "\n",
    "    text = \"\\n\"\n",
    "\n",
    "    instruction_prompt = f'''You are a helpful chatbot.\n",
    "    Use only the following pieces of context to answer the question. Don't make up any new information:\n",
    "    {text.join([f' - {chunk}' for chunk, similarity in retrieved_knowledge])}\n",
    "    '''\n",
    "    stream = ollama.chat(\n",
    "      model=llm,\n",
    "      messages=[\n",
    "        {'role': 'system', 'content': instruction_prompt},\n",
    "        {'role': 'user', 'content': query},\n",
    "      ],\n",
    "      stream=True,\n",
    "    )\n",
    "\n",
    "    for chunk in stream:\n",
    "      print(chunk['message']['content'], end='', flush=True)"
   ],
   "id": "d9d137c6ce8525a",
   "outputs": [],
   "execution_count": 12
  },
  {
   "metadata": {
    "ExecuteTime": {
     "end_time": "2025-08-08T14:49:52.232951Z",
     "start_time": "2025-08-08T14:49:52.178734Z"
    }
   },
   "cell_type": "code",
   "source": "ask(\"what is python?\")",
   "id": "7117938f17df8be7",
   "outputs": [
    {
     "name": "stdout",
     "output_type": "stream",
     "text": [
      "Could not find relevant information in the document.\n"
     ]
    }
   ],
   "execution_count": 13
  },
  {
   "metadata": {
    "ExecuteTime": {
     "end_time": "2025-08-08T14:50:05.647584Z",
     "start_time": "2025-08-08T14:50:02.854694Z"
    }
   },
   "cell_type": "code",
   "source": "ask(\"what is plastic pollution?\")",
   "id": "bd6021b93cdc9f2b",
   "outputs": [
    {
     "name": "stdout",
     "output_type": "stream",
     "text": [
      "Plastic pollution refers to the large-scale accumulation of plastic waste in marine ecosystems and the environment throughout the world's oceans due to human consumption, waste generation, and improper disposal. This type of pollution has serious consequences for biodiversity loss, harm to marine life, and disruption of food chains, among others. Plastic pollution can occur naturally as microplastics break down into smaller particles or debris that accumulate in the ocean, but it also arises from the production and use of plastic products such as bags, containers, bottles, and other items made with plastics.\n",
      "\n",
      "Plastic pollution is primarily caused by human activities like:\n",
      "\n",
      "1. Discard-and-throw: Most plastic waste ends up being thrown away because people often dispose trash in oceans or landfills without taking proper disposal methods to prevent it from ending up there. 2. Producer/Consumer Trade: Plastic products are produced and used on a large scale by companies that use them as raw materials for various items, including bags, containers, bottles, etc.\n",
      "3. Personal Use of Products: Most plastic waste ends up in the environment because people often discard or reuse things like bags, boxes, and other household items without proper disposal methods to prevent it from ending up there. 4. Disposable Items: The production and use of disposable products such as paper plates, cutlery, glass jars, and containers contribute significantly to plastic pollution through improper disposal.\n",
      "5. Waste Management: Plastic waste is often not disposed of properly in oceans or landfills because it gets mixed with wastewater from sewage treatment plants and other sources. 6. Food Chain: The production and use of plastics can disrupt the food chain by consuming aquatic life, including fish and shellfish. 7. Marine Life Infestation: Over time, plastic debris becomes a problem for marine animals that ingest them.\n",
      "\n",
      "Overall, plastic pollution is a complex issue with far-reaching consequences for human health and the environment. It requires significant effort to reduce waste, promote proper disposal practices in agriculture, businesses, communities, and other areas, as well as to protect ecosystems from harm caused by this type of pollution."
     ]
    }
   ],
   "execution_count": 14
  },
  {
   "metadata": {},
   "cell_type": "code",
   "outputs": [],
   "execution_count": null,
   "source": "",
   "id": "82cd597d4262dced"
  }
 ],
 "metadata": {
  "kernelspec": {
   "display_name": "Python 3",
   "language": "python",
   "name": "python3"
  },
  "language_info": {
   "codemirror_mode": {
    "name": "ipython",
    "version": 2
   },
   "file_extension": ".py",
   "mimetype": "text/x-python",
   "name": "python",
   "nbconvert_exporter": "python",
   "pygments_lexer": "ipython2",
   "version": "2.7.6"
  }
 },
 "nbformat": 4,
 "nbformat_minor": 5
}
